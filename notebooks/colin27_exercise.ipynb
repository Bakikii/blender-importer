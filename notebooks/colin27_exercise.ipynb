{
 "cells": [
  {
   "cell_type": "code",
   "execution_count": 2,
   "metadata": {
    "collapsed": true
   },
   "outputs": [],
   "source": [
    "import os\n",
    "\n",
    "# You should set here the full path of your mmvt source code\n",
    "os.chdir(os.environ['MMVT_CODE'])"
   ]
  },
  {
   "cell_type": "code",
   "execution_count": 3,
   "metadata": {},
   "outputs": [
    {
     "name": "stderr",
     "output_type": "stream",
     "text": [
      "error: unrecognized arguments: -f /run/user/3628004/jupyter/kernel-bd7372cb-9313-4ce4-a36f-af9128398904.json\n",
      "Exception in thread ioloop-47525126253088:\n",
      "Traceback (most recent call last):\n",
      "  File \"/autofs/space/thibault_001/users/npeled/anaconda3.4.4/lib/python3.6/threading.py\", line 916, in _bootstrap_inner\n",
      "    self.run()\n",
      "  File \"/autofs/space/thibault_001/users/npeled/anaconda3.4.4/lib/python3.6/threading.py\", line 864, in run\n",
      "    self._target(*self._args, **self._kwargs)\n",
      "  File \"/autofs/space/thibault_001/users/npeled/anaconda3.4.4/lib/python3.6/site-packages/zmq/eventloop/ioloop.py\", line 177, in start\n",
      "    super(ZMQIOLoop, self).start()\n",
      "  File \"/autofs/space/thibault_001/users/npeled/anaconda3.4.4/lib/python3.6/site-packages/tornado/ioloop.py\", line 755, in start\n",
      "    raise RuntimeError(\"IOLoop is already running\")\n",
      "RuntimeError: IOLoop is already running\n",
      "\n"
     ]
    },
    {
     "name": "stdout",
     "output_type": "stream",
     "text": [
      "usage: ipykernel_launcher.py [-h] [-s SUBJECT] [--subjects SUBJECTS]\n",
      "                             [-a ATLAS] [--real_atlas REAL_ATLAS] [-b BIPOLAR]\n",
      "                             [-d DEBUG]\n",
      "\n",
      "MMVT\n",
      "\n",
      "optional arguments:\n",
      "  -h, --help            show this help message and exit\n",
      "  -s SUBJECT, --subject SUBJECT\n",
      "                        subject name\n",
      "  --subjects SUBJECTS   subjects names\n",
      "  -a ATLAS, --atlas ATLAS\n",
      "                        atlas name\n",
      "  --real_atlas REAL_ATLAS\n",
      "                        atlas name\n",
      "  -b BIPOLAR, --bipolar BIPOLAR\n",
      "                        bipolar\n",
      "  -d DEBUG, --debug DEBUG\n",
      "                        debug\n",
      "*********** colin27 ***********\n"
     ]
    }
   ],
   "source": [
    "from src.mmvt_addon.scripts import run_mmvt\n",
    "from pizco import Proxy\n",
    "\n",
    "subject, atlas = 'colin27', 'laus125'\n",
    "run_mmvt.run(subject, atlas, run_in_background=False, debug=True, raise_exp=False)\n",
    "mmvt = Proxy('tcp://127.0.0.1:8001')"
   ]
  },
  {
   "cell_type": "code",
   "execution_count": null,
   "metadata": {},
   "outputs": [],
   "source": []
  },
  {
   "cell_type": "code",
   "execution_count": null,
   "metadata": {
    "collapsed": true
   },
   "outputs": [],
   "source": []
  }
 ],
 "metadata": {
  "kernelspec": {
   "display_name": "Python 3",
   "language": "python",
   "name": "python3"
  },
  "language_info": {
   "codemirror_mode": {
    "name": "ipython",
    "version": 3
   },
   "file_extension": ".py",
   "mimetype": "text/x-python",
   "name": "python",
   "nbconvert_exporter": "python",
   "pygments_lexer": "ipython3",
   "version": "3.6.1"
  }
 },
 "nbformat": 4,
 "nbformat_minor": 1
}
