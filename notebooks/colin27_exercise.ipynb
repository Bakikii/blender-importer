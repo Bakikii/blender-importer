{
 "cells": [
  {
   "cell_type": "code",
   "execution_count": null,
   "metadata": {
    "collapsed": true
   },
   "outputs": [],
   "source": [
    "import os\n",
    "# You should set here the full path of your mmvt source code\n",
    "os.chdir(os.environ['MMVT_CODE'])"
   ]
  },
  {
   "cell_type": "code",
   "execution_count": null,
   "metadata": {},
   "outputs": [],
   "source": [
    "from src.mmvt_addon.scripts import run_mmvt\n",
    "subject, atlas = 'colin27', 'laus125'\n",
    "run_mmvt.run(subject, atlas, debug=False)"
   ]
  },
  {
   "cell_type": "code",
   "execution_count": null,
   "metadata": {},
   "outputs": [],
   "source": [
    "from src.mmvt_addon.scripts import scripts_utils as su\n",
    "mmvt = su.get_mmvt_object()"
   ]
  },
  {
   "cell_type": "code",
   "execution_count": null,
   "metadata": {},
   "outputs": [],
   "source": [
    "mmvt.plot_stc('neutral', t=846, threshold=3.62)\n",
    "val = mmvt.get_vertex_value(mni=(-12.03, -28.36, 43.63))\n",
    "print('The MEG activity of the neutral MSIT consition in the MNI coordinates (-12.03, -28.36, 43.63):\\n{}'.format(val))"
   ]
  }
 ],
 "metadata": {
  "kernelspec": {
   "display_name": "Python 3",
   "language": "python",
   "name": "python3"
  },
  "language_info": {
   "codemirror_mode": {
    "name": "ipython",
    "version": 3
   },
   "file_extension": ".py",
   "mimetype": "text/x-python",
   "name": "python",
   "nbconvert_exporter": "python",
   "pygments_lexer": "ipython3",
   "version": "3.6.3"
  }
 },
 "nbformat": 4,
 "nbformat_minor": 1
}
