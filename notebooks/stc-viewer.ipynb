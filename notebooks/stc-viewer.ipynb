{
 "cells": [
  {
   "cell_type": "code",
   "execution_count": 11,
   "metadata": {
    "collapsed": true
   },
   "outputs": [],
   "source": [
    "subject = 'sample' \n",
    "atlas = 'dkt'"
   ]
  },
  {
   "cell_type": "code",
   "execution_count": 12,
   "metadata": {
    "collapsed": false
   },
   "outputs": [
    {
     "name": "stdout",
     "output_type": "stream",
     "text": [
      "argv: --subject sample --atlas dkt\n",
      "*********** sample ***********\n",
      "/local_mount/space/thibault/1/users/npeled/blender-2.78a-linux-glibc211-x86_64/blender /autofs/space/thibault_001/users/npeled/mmvt/sample_dkt.blend  --python \"/local_mount/space/thibault/1/users/npeled/code/mmvt/src/mmvt_addon/scripts/run_mmvt.py\" --subject \"sample\" --subjects \"\" --atlas \"dkt\" --real_atlas \"aparc.DKTatlas40\" --bipolar \"False\" --debug \"False\" --blender_fol \"/local_mount/space/thibault/1/users/npeled/blender-2.78a-linux-glibc211-x86_64\" \n",
      "start!\n",
      "After Blender call\n",
      "Finish! For more details look in /local_mount/space/thibault/1/users/npeled/code/mmvt/logs/run_mmvt.log\n"
     ]
    }
   ],
   "source": [
    "import os\n",
    "os.chdir('..')\n",
    "from src.mmvt_addon.scripts import run_mmvt\n",
    "run_mmvt.run(subject, atlas, run_in_background=False)"
   ]
  },
  {
   "cell_type": "code",
   "execution_count": 13,
   "metadata": {
    "collapsed": false
   },
   "outputs": [],
   "source": [
    "from pizco import Proxy\n",
    "mmvt = Proxy('tcp://127.0.0.1:8000')"
   ]
  },
  {
   "cell_type": "code",
   "execution_count": 14,
   "metadata": {
    "collapsed": false
   },
   "outputs": [],
   "source": [
    "import os.path as op\n",
    "import mne\n",
    "\n",
    "mne_sample_data_fol = mne.datasets.sample.data_path()\n",
    "meg_subject = 'sample'\n",
    "stc_fname = op.join(mne_sample_data_fol, 'MEG', 'sample', 'sample_audvis-meg-rh.stc')\n",
    "stc = mne.read_source_estimate(stc_fname)"
   ]
  },
  {
   "cell_type": "code",
   "execution_count": 20,
   "metadata": {
    "collapsed": false
   },
   "outputs": [],
   "source": [
    "import ipywidgets as widgets\n",
    "from ipywidgets import HBox, VBox, Label, Button, Layout, Image\n",
    "\n",
    "T = stc.lh_data.shape[1] \n",
    "play = widgets.Play(value=0, min=0, max=T, step=1, interval=1000)\n",
    "slider = widgets.IntSlider(value=0, min=0, max=T, step=1)\n",
    "widgets.jslink((play, 'value'), (slider, 'value'))\n",
    "quality_slider = widgets.IntSlider(value=40, min=0, max=100, step=1, layout=Layout(width='100%'))\n",
    "threshold_slider = widgets.FloatSlider(value=2, min=0, max=10, step=0.1, layout=Layout(width='20%'))"
   ]
  },
  {
   "cell_type": "code",
   "execution_count": 16,
   "metadata": {
    "collapsed": false
   },
   "outputs": [
    {
     "name": "stdout",
     "output_type": "stream",
     "text": [
      "Morphing data...\n",
      "    Left-hemisphere map read.\n",
      "    Right-hemisphere map read.\n",
      "    Left-hemisphere map read.\n",
      "    Right-hemisphere map read.\n",
      "    17 smooth iterations done.\n"
     ]
    },
    {
     "name": "stderr",
     "output_type": "stream",
     "text": [
      "[Parallel(n_jobs=4)]: Done   1 out of   1 | elapsed:    0.4s finished\n"
     ]
    },
    {
     "name": "stdout",
     "output_type": "stream",
     "text": [
      "    14 smooth iterations done.\n",
      "[done]\n"
     ]
    },
    {
     "name": "stderr",
     "output_type": "stream",
     "text": [
      "[Parallel(n_jobs=4)]: Done   1 out of   1 | elapsed:    0.4s finished\n"
     ]
    }
   ],
   "source": [
    "import numpy as np\n",
    "def create_stc_t(stc, t):\n",
    "    data = np.concatenate([stc.lh_data[:, t:t + 1], stc.rh_data[:, t:t + 1]])\n",
    "    vertices = [stc.lh_vertno, stc.rh_vertno]\n",
    "    stc_t = mne.SourceEstimate(data, vertices, stc.tmin + t * stc.tstep, stc.tstep, subject=subject)\n",
    "    return stc_t\n",
    "\n",
    "def plot_stc(stc, t):\n",
    "    # return mmvt.plot_stc(stc, t, threshold=threshold_slider.value,  save_image=True)\n",
    "    stc_t = create_stc_t(stc, t)\n",
    "    stc_t_smooth = mne.morph_data(meg_subject, subject, stc_t, n_jobs=n_jobs, grade=vertices_to)\n",
    "    meg_fname = mmvt.plot_stc_t(stc_t_smooth.rh_data, stc_t_smooth.lh_data, t, threshold=threshold_slider.value, save_image=True)\n",
    "    return meg_fname, stc_t_smooth\n",
    "    \n",
    "n_jobs = 4\n",
    "t = 0 # ms\n",
    "vertices_to = mne.grade_to_vertices(subject, None)    \n",
    "meg_fname, stc_t_smooth = plot_stc(stc, t)\n",
    "file = open(meg_fname, \"rb\")\n",
    "meg_image = Image(value=file.read(), format='png', width=800, height=450)"
   ]
  },
  {
   "cell_type": "code",
   "execution_count": 17,
   "metadata": {
    "collapsed": false
   },
   "outputs": [],
   "source": [
    "def update_image(fname=''):\n",
    "    fname = mmvt.save_image('stc', index=slider.value) if fname == '' else fname\n",
    "    file = open(fname, \"rb\")\n",
    "    meg_image.value = file.read()\n",
    "\n",
    "sagital_button = Button(description=\"Sagital\")\n",
    "sagital_button.on_click(lambda x:(mmvt.show_sagital(), update_image()))\n",
    "coronal_button = Button(description=\"Coronal\")\n",
    "coronal_button.on_click(lambda x:(mmvt.show_coronal(), update_image()))\n",
    "axial_button = Button(description=\"Axial\")\n",
    "axial_button.on_click(lambda x:(mmvt.show_axial(), update_image()))\n",
    "render_button = Button(description='Render')\n",
    "update_button = Button(description='Update')\n",
    "update_button.on_click(lambda x:(update_image()))\n",
    "render_button.on_click(lambda x:(mmvt.hide_subcorticals(), mmvt.set_brain_transparency(1), mmvt.set_to_camera_view(),\n",
    "                                 update_image(mmvt.render_image(quality=quality_slider.value))))"
   ]
  },
  {
   "cell_type": "code",
   "execution_count": 21,
   "metadata": {
    "collapsed": false
   },
   "outputs": [],
   "source": [
    "def on_value_change(change):\n",
    "    t = change['new']\n",
    "    meg_fname, stc_t_smooth = plot_stc(stc, t)\n",
    "    file = open(meg_fname, \"rb\")\n",
    "    meg_image.value = file.read()\n",
    "\n",
    "slider.observe(on_value_change, names='value') \n",
    "VBox([HBox([meg_image, VBox([sagital_button, coronal_button, axial_button, update_button,\n",
    "                             Label('Quality:'), quality_slider, render_button])]),\n",
    "     HBox([play, slider, Label('Threshold:'), threshold_slider])])"
   ]
  },
  {
   "cell_type": "code",
   "execution_count": 22,
   "metadata": {
    "collapsed": false
   },
   "outputs": [
    {
     "data": {
      "text/plain": [
       "True"
      ]
     },
     "execution_count": 22,
     "metadata": {},
     "output_type": "execute_result"
    },
    {
     "name": "stdout",
     "output_type": "stream",
     "text": [
      "b\"Switching to fully guarded memory allocator.\\nBlender 2.78 (sub 0)\\nBuild: 2016-10-24 15:02:41 Linux Release\\nargv[0] = /local_mount/space/thibault/1/users/npeled/blender-2.78a-linux-glibc211-x86_64/blender\\nargv[1] = /autofs/space/thibault_001/users/npeled/mmvt/sample_dkt.blend\\nargv[2] = --python\\nargv[3] = /local_mount/space/thibault/1/users/npeled/code/mmvt/src/mmvt_addon/scripts/run_mmvt.py\\nargv[4] = --subject\\nargv[5] = sample\\nargv[6] = --subjects\\nargv[7] = \\nargv[8] = --atlas\\nargv[9] = dkt\\nargv[10] = --real_atlas\\nargv[11] = aparc.DKTatlas40\\nargv[12] = --bipolar\\nargv[13] = False\\nargv[14] = --debug\\nargv[15] = False\\nargv[16] = --blender_fol\\nargv[17] = /local_mount/space/thibault/1/users/npeled/blender-2.78a-linux-glibc211-x86_64\\nread file /homes/5/npeled/.config/blender/2.78/config/startup.blend\\n  Version 275 sub 0 date 2015-07-07 14:56 hash c27589e\\n\\nordered\\n OBCube\\n OBLamp\\n OBCamera\\nread file /homes/5/npeled/.config/blender/2.78/config/userpref.blend\\n  Version 278 sub 0 date 2016-10-24 12:20 hash e8299c8\\nRead new prefs: /homes/5/npeled/.config/blender/2.78/config/userpref.blend\\nfound bundled python: /local_mount/space/thibault/1/users/npeled/blender-2.78a-linux-glibc211-x86_64/2.78/python\\nread blend: /autofs/space/thibault_001/users/npeled/mmvt/sample_dkt.blend\\nread file /autofs/space/thibault_001/users/npeled/mmvt/sample_dkt.blend\\n  Version 278 sub 0 date 2016-10-24 12:20 hash e8299c8\\n\\nordered\\n OBFunctional maps\\n OBinflated_rh\\n OBinflated_lh\\n OBlh\\n OBrh\\n OBSubcortical_fmri_activity_map\\n OBLeft-Thalamus-Proper_fmri_activity\\n OBLeft-Cerebellum-Cortex_fmri_activity\\n OBRight-Putamen_fmri_activity\\n OBBrain-Stem_fmri_activity\\n OBRight-Amygdala_fmri_activity\\n OBRight-Thalamus-Proper_fmri_activity\\n OBLeft-Accumbens-area_fmri_activity\\n OBLeft-Putamen_fmri_activity\\n OBLeft-Amygdala_fmri_activity\\n OBRight-Cerebellum-Cortex_fmri_activity\\n OBRight-Caudate_fmri_activity\\n OBRight-Accumbens-area_fmri_activity\\n OBLeft-Caudate_fmri_activity\\n OBLeft-Pallidum_fmri_activity\\n OBRight-Hippocampus_fmri_activity\\n OBLeft-Hippocampus_fmri_activity\\n OBRight-Pallidum_fmri_activity\\n OBSubcortical_meg_activity_map\\n OBLeft-Thalamus-Proper_meg_activity\\n OBLeft-Cerebellum-Cortex_meg_activity\\n OBRight-Putamen_meg_activity\\n OBBrain-Stem_meg_activity\\n OBRight-Amygdala_meg_activity\\n OBRight-Thalamus-Proper_meg_activity\\n OBLeft-Accumbens-area_meg_activity\\n OBLeft-Putamen_meg_activity\\n OBLeft-Amygdala_meg_activity\\n OBRight-Cerebellum-Cortex_meg_activity\\n OBRight-Caudate_meg_activity\\n OBRight-Accumbens-area_meg_activity\\n OBLeft-Caudate_meg_activity\\n OBLeft-Pallidum_meg_activity\\n OBRight-Hippocampus_meg_activity\\n OBLeft-Hippocampus_meg_activity\\n OBRight-Pallidum_meg_activity\\n OBBrain\\n OBSubcortical_structures\\n OBLeft-Thalamus-Proper\\n OBLeft-Cerebellum-Cortex\\n OBRight-Putamen\\n OBBrain-Stem\\n OBRight-Amygdala\\n OBRight-Thalamus-Proper\\n OBLeft-Accumbens-area\\n OBLeft-Putamen\\n OBLeft-Amygdala\\n OBRight-Cerebellum-Cortex\\n OBRight-Caudate\\n OBRight-Accumbens-area\\n OBLeft-Caudate\\n OBLeft-Pallidum\\n OBRight-Hippocampus\\n OBLeft-Hippocampus\\n OBRight-Pallidum\\n OBCortex-inflated-lh\\n OBinflated_pericalcarine-lh\\n OBinflated_fusiform-lh\\n OBinflated_transversetemporal-lh\\n OBinflated_inferiorparietal-lh\\n OBinflated_inferiortemporal-lh\\n OBinflated_caudalmiddlefrontal-lh\\n OBinflated_parsorbitalis-lh\\n OBinflated_rostralanteriorcingulate-lh\\n OBinflated_parsopercularis-lh\\n OBinflated_precuneus-lh\\n OBinflated_caudalanteriorcingulate-lh\\n OBinflated_parahippocampal-lh\\n OBinflated_lateralorbitofrontal-lh\\n OBinflated_superiortemporal-lh\\n OBinflated_lateraloccipital-lh\\n OBinflated_supramarginal-lh\\n OBinflated_middletemporal-lh\\n OBinflated_paracentral-lh\\n OBinflated_unknown-lh\\n OBinflated_postcentral-lh\\n OBinflated_entorhinal-lh\\n OBinflated_lingual-lh\\n OBinflated_rostralmiddlefrontal-lh\\n OBinflated_parstriangularis-lh\\n OBinflated_superiorfrontal-lh\\n OBinflated_precentral-lh\\n OBinflated_posteriorcingulate-lh\\n OBinflated_isthmuscingulate-lh\\n OBinflated_superiorparietal-lh\\n OBinflated_cuneus-lh\\n OBinflated_insula-lh\\n OBinflated_medialorbitofrontal-lh\\n OBCortex-inflated-rh\\n OBinflated_lateralorbitofrontal-rh\\n OBinflated_fusiform-rh\\n OBinflated_parsorbitalis-rh\\n OBinflated_superiorparietal-rh\\n OBinflated_parsopercularis-rh\\n OBinflated_entorhinal-rh\\n OBinflated_rostralmiddlefrontal-rh\\n OBinflated_postcentral-rh\\n OBinflated_isthmuscingulate-rh\\n OBinflated_posteriorcingulate-rh\\n OBinflated_unknown-rh\\n OBinflated_inferiorparietal-rh\\n OBinflated_lingual-rh\\n OBinflated_precentral-rh\\n OBinflated_cuneus-rh\\n OBinflated_caudalmiddlefrontal-rh\\n OBinflated_lateraloccipital-rh\\n OBinflated_middletemporal-rh\\n OBinflated_pericalcarine-rh\\n OBinflated_medialorbitofrontal-rh\\n OBinflated_supramarginal-rh\\n OBinflated_parahippocampal-rh\\n OBinflated_parstriangularis-rh\\n OBinflated_insula-rh\\n OBinflated_transversetemporal-rh\\n OBinflated_paracentral-rh\\n OBinflated_caudalanteriorcingulate-rh\\n OBinflated_inferiortemporal-rh\\n OBinflated_precuneus-rh\\n OBinflated_rostralanteriorcingulate-rh\\n OBinflated_superiortemporal-rh\\n OBinflated_superiorfrontal-rh\\n OBCortex-rh\\n OBlateralorbitofrontal-rh\\n OBfusiform-rh\\n OBparsorbitalis-rh\\n OBsuperiorparietal-rh\\n OBparsopercularis-rh\\n OBentorhinal-rh\\n OBrostralmiddlefrontal-rh\\n OBpostcentral-rh\\n OBisthmuscingulate-rh\\n OBposteriorcingulate-rh\\n OBunknown-rh\\n OBinferiorparietal-rh\\n OBlingual-rh\\n OBprecentral-rh\\n OBcuneus-rh\\n OBcaudalmiddlefrontal-rh\\n OBlateraloccipital-rh\\n OBmiddletemporal-rh\\n OBpericalcarine-rh\\n OBmedialorbitofrontal-rh\\n OBsupramarginal-rh\\n OBparahippocampal-rh\\n OBparstriangularis-rh\\n OBinsula-rh\\n OBtransversetemporal-rh\\n OBparacentral-rh\\n OBcaudalanteriorcingulate-rh\\n OBinferiortemporal-rh\\n OBprecuneus-rh\\n OBrostralanteriorcingulate-rh\\n OBsuperiortemporal-rh\\n OBsuperiorfrontal-rh\\n OBCerebellum\\n OBCortex-lh\\n OBpericalcarine-lh\\n OBfusiform-lh\\n OBtransversetemporal-lh\\n OBinferiorparietal-lh\\n OBinferiortemporal-lh\\n OBcaudalmiddlefrontal-lh\\n OBparsorbitalis-lh\\n OBrostralanteriorcingulate-lh\\n OBparsopercularis-lh\\n OBprecuneus-lh\\n OBcaudalanteriorcingulate-lh\\n OBparahippocampal-lh\\n OBlateralorbitofrontal-lh\\n OBsuperiortemporal-lh\\n OBlateraloccipital-lh\\n OBsupramarginal-lh\\n OBmiddletemporal-lh\\n OBparacentral-lh\\n OBunknown-lh\\n OBpostcentral-lh\\n OBentorhinal-lh\\n OBlingual-lh\\n OBrostralmiddlefrontal-lh\\n OBparstriangularis-lh\\n OBsuperiorfrontal-lh\\n OBprecentral-lh\\n OBposteriorcingulate-lh\\n OBisthmuscingulate-lh\\n OBsuperiorparietal-lh\\n OBcuneus-lh\\n OBinsula-lh\\n OBmedialorbitofrontal-lh\\n OBIcosphere\\n OBCamera\\n OBcolorbar_camera\\n OBcCB_camera\\n OBcb.511\\n OBcb.510\\n OBcb.509\\n OBcb.508\\n OBcb.507\\n OBcb.506\\n OBcb.505\\n OBcb.504\\n OBcb.503\\n OBcb.502\\n OBcb.501\\n OBcb.500\\n OBcb.499\\n OBcb.498\\n OBcb.497\\n OBcb.496\\n OBcb.495\\n OBcb.494\\n OBcb.493\\n OBcb.492\\n OBcb.491\\n OBcb.490\\n OBcb.489\\n OBcb.488\\n OBcb.487\\n OBcb.486\\n OBcb.485\\n OBcb.484\\n OBcb.483\\n OBcb.482\\n OBcb.481\\n OBcb.480\\n OBcb.479\\n OBcb.478\\n OBcb.477\\n OBcb.476\\n OBcb.475\\n OBcb.474\\n OBcb.473\\n OBcb.472\\n OBcb.471\\n OBcb.470\\n OBcb.469\\n OBcb.468\\n OBcb.467\\n OBcb.466\\n OBcb.465\\n OBcb.464\\n OBcb.463\\n OBcb.462\\n OBcb.461\\n OBcb.460\\n OBcb.459\\n OBcb.458\\n OBcb.457\\n OBcb.456\\n OBcb.455\\n OBcb.454\\n OBcb.453\\n OBcb.452\\n OBcb.451\\n OBcb.450\\n OBcb.449\\n OBcb.448\\n OBcb.447\\n OBcb.446\\n OBcb.445\\n OBcb.444\\n OBcb.443\\n OBcb.442\\n OBcb.441\\n OBcb.440\\n OBcb.439\\n OBcb.438\\n OBcb.437\\n OBcb.436\\n OBcb.435\\n OBcb.434\\n OBcb.433\\n OBcb.432\\n OBcb.431\\n OBcb.430\\n OBcb.429\\n OBcb.428\\n OBcb.427\\n OBcb.426\\n OBcb.425\\n OBcb.424\\n OBcb.423\\n OBcb.422\\n OBcb.421\\n OBcb.420\\n OBcb.419\\n OBcb.418\\n OBcb.417\\n OBcb.416\\n OBcb.415\\n OBcb.414\\n OBcb.413\\n OBcb.412\\n OBcb.411\\n OBcb.410\\n OBcb.409\\n OBcb.408\\n OBcb.407\\n OBcb.406\\n OBcb.405\\n OBcb.404\\n OBcb.403\\n OBcb.402\\n OBcb.401\\n OBcb.400\\n OBcb.399\\n OBcb.398\\n OBcb.397\\n OBcb.396\\n OBcb.395\\n OBcb.394\\n OBcb.393\\n OBcb.392\\n OBcb.391\\n OBcb.390\\n OBcb.389\\n OBcb.388\\n OBcb.387\\n OBcb.386\\n OBcb.385\\n OBcb.384\\n OBcb.383\\n OBcb.382\\n OBcb.381\\n OBcb.380\\n OBcb.379\\n OBcb.378\\n OBcb.377\\n OBcb.376\\n OBcb.375\\n OBcb.374\\n OBcb.373\\n OBcb.372\\n OBcb.371\\n OBcb.370\\n OBcb.369\\n OBcb.368\\n OBcb.367\\n OBcb.366\\n OBcb.365\\n OBcb.364\\n OBcb.363\\n OBcb.362\\n OBcb.361\\n OBcb.360\\n OBcb.359\\n OBcb.358\\n OBcb.357\\n OBcb.356\\n OBcb.355\\n OBcb.354\\n OBcb.353\\n OBcb.352\\n OBcb.351\\n OBcb.350\\n OBcb.349\\n OBcb.348\\n OBcb.347\\n OBcb.346\\n OBcb.345\\n OBcb.344\\n OBcb.343\\n OBcb.342\\n OBcb.341\\n OBcb.340\\n OBcb.339\\n OBcb.338\\n OBcb.337\\n OBcb.336\\n OBcb.335\\n OBcb.334\\n OBcb.333\\n OBcb.332\\n OBcb.331\\n OBcb.330\\n OBcb.329\\n OBcb.328\\n OBcb.327\\n OBcb.326\\n OBcb.325\\n OBcb.324\\n OBcb.323\\n OBcb.322\\n OBcb.321\\n OBcb.320\\n OBcb.319\\n OBcb.318\\n OBcb.317\\n OBcb.316\\n OBcb.315\\n OBcb.314\\n OBcb.313\\n OBcb.312\\n OBcb.311\\n OBcb.310\\n OBcb.309\\n OBcb.308\\n OBcb.307\\n OBcb.306\\n OBcb.305\\n OBcb.304\\n OBcb.303\\n OBcb.302\\n OBcb.301\\n OBcb.300\\n OBcb.299\\n OBcb.298\\n OBcb.297\\n OBcb.296\\n OBcb.295\\n OBcb.294\\n OBcb.293\\n OBcb.292\\n OBcb.291\\n OBcb.290\\n OBcb.289\\n OBcb.288\\n OBcb.287\\n OBcb.286\\n OBcb.285\\n OBcb.284\\n OBcb.283\\n OBcb.282\\n OBcb.281\\n OBcb.280\\n OBcb.279\\n OBcb.278\\n OBcb.277\\n OBcb.276\\n OBcb.275\\n OBcb.274\\n OBcb.273\\n OBcb.272\\n OBcb.271\\n OBcb.270\\n OBcb.269\\n OBcb.268\\n OBcb.267\\n OBcb.266\\n OBcb.265\\n OBcb.264\\n OBcb.263\\n OBcb.262\\n OBcb.261\\n OBcb.260\\n OBcb.259\\n OBcb.258\\n OBcb.257\\n OBcb.256\\n OBcolorbar_max_camera\\n OBcolorbar_title_camera\\n OBcolorbar_min_camera\\n OBfull_colorbar\\n OBSphere.001\\n OBcolorbar_title\\n OBcolorbar_min\\n OBcolorbar_max\\n OBcCB\\n OBcb.000\\n OBcb.001\\n OBcb.002\\n OBcb.003\\n OBcb.004\\n OBcb.005\\n OBcb.006\\n OBcb.007\\n OBcb.008\\n OBcb.009\\n OBcb.010\\n OBcb.011\\n OBcb.012\\n OBcb.013\\n OBcb.014\\n OBcb.015\\n OBcb.016\\n OBcb.017\\n OBcb.018\\n OBcb.019\\n OBcb.020\\n OBcb.021\\n OBcb.022\\n OBcb.023\\n OBcb.024\\n OBcb.025\\n OBcb.026\\n OBcb.027\\n OBcb.028\\n OBcb.029\\n OBcb.030\\n OBcb.031\\n OBcb.032\\n OBcb.033\\n OBcb.034\\n OBcb.035\\n OBcb.036\\n OBcb.037\\n OBcb.038\\n OBcb.039\\n OBcb.040\\n OBcb.041\\n OBcb.042\\n OBcb.043\\n OBcb.044\\n OBcb.045\\n OBcb.046\\n OBcb.047\\n OBcb.048\\n OBcb.049\\n OBcb.050\\n OBcb.051\\n OBcb.052\\n OBcb.053\\n OBcb.054\\n OBcb.055\\n OBcb.056\\n OBcb.057\\n OBcb.058\\n OBcb.059\\n OBcb.060\\n OBcb.061\\n OBcb.062\\n OBcb.063\\n OBcb.064\\n OBcb.065\\n OBcb.066\\n OBcb.067\\n OBcb.068\\n OBcb.069\\n OBcb.070\\n OBcb.071\\n OBcb.072\\n OBcb.073\\n OBcb.074\\n OBcb.075\\n OBcb.076\\n OBcb.077\\n OBcb.078\\n OBcb.079\\n OBcb.080\\n OBcb.081\\n OBcb.082\\n OBcb.083\\n OBcb.084\\n OBcb.085\\n OBcb.086\\n OBcb.087\\n OBcb.088\\n OBcb.089\\n OBcb.090\\n OBcb.091\\n OBcb.092\\n OBcb.093\\n OBcb.094\\n OBcb.095\\n OBcb.096\\n OBcb.097\\n OBcb.098\\n OBcb.099\\n OBcb.100\\n OBcb.101\\n OBcb.102\\n OBcb.103\\n OBcb.104\\n OBcb.105\\n OBcb.106\\n OBcb.107\\n OBcb.108\\n OBcb.109\\n OBcb.110\\n OBcb.111\\n OBcb.112\\n OBcb.113\\n OBcb.114\\n OBcb.115\\n OBcb.116\\n OBcb.117\\n OBcb.118\\n OBcb.119\\n OBcb.120\\n OBcb.121\\n OBcb.122\\n OBcb.123\\n OBcb.124\\n OBcb.125\\n OBcb.126\\n OBcb.127\\n OBcb.128\\n OBcb.129\\n OBcb.130\\n OBcb.131\\n OBcb.132\\n OBcb.133\\n OBcb.134\\n OBcb.135\\n OBcb.136\\n OBcb.137\\n OBcb.138\\n OBcb.139\\n OBcb.140\\n OBcb.141\\n OBcb.142\\n OBcb.143\\n OBcb.144\\n OBcb.145\\n OBcb.146\\n OBcb.147\\n OBcb.148\\n OBcb.149\\n OBcb.150\\n OBcb.151\\n OBcb.152\\n OBcb.153\\n OBcb.154\\n OBcb.155\\n OBcb.156\\n OBcb.157\\n OBcb.158\\n OBcb.159\\n OBcb.160\\n OBcb.161\\n OBcb.162\\n OBcb.163\\n OBcb.164\\n OBcb.165\\n OBcb.166\\n OBcb.167\\n OBcb.168\\n OBcb.169\\n OBcb.170\\n OBcb.171\\n OBcb.172\\n OBcb.173\\n OBcb.174\\n OBcb.175\\n OBcb.176\\n OBcb.177\\n OBcb.178\\n OBcb.179\\n OBcb.180\\n OBcb.181\\n OBcb.182\\n OBcb.183\\n OBcb.184\\n OBcb.185\\n OBcb.186\\n OBcb.187\\n OBcb.188\\n OBcb.189\\n OBcb.190\\n OBcb.191\\n OBcb.192\\n OBcb.193\\n OBcb.194\\n OBcb.195\\n OBcb.196\\n OBcb.197\\n OBcb.198\\n OBcb.199\\n OBcb.200\\n OBcb.201\\n OBcb.202\\n OBcb.203\\n OBcb.204\\n OBcb.205\\n OBcb.206\\n OBcb.207\\n OBcb.208\\n OBcb.209\\n OBcb.210\\n OBcb.211\\n OBcb.212\\n OBcb.213\\n OBcb.214\\n OBcb.215\\n OBcb.216\\n OBcb.217\\n OBcb.218\\n OBcb.219\\n OBcb.220\\n OBcb.221\\n OBcb.222\\n OBcb.223\\n OBcb.224\\n OBcb.225\\n OBcb.226\\n OBcb.227\\n OBcb.228\\n OBcb.229\\n OBcb.230\\n OBcb.231\\n OBcb.232\\n OBcb.233\\n OBcb.234\\n OBcb.235\\n OBcb.236\\n OBcb.237\\n OBcb.238\\n OBcb.239\\n OBcb.240\\n OBcb.241\\n OBcb.242\\n OBcb.243\\n OBcb.244\\n OBcb.245\\n OBcb.246\\n OBcb.247\\n OBcb.248\\n OBcb.249\\n OBcb.250\\n OBcb.251\\n OBcb.252\\n OBcb.253\\n OBcb.254\\n OBcb.255\\n OBSphere\\n OBLights\\n OBSun.002\\n OBSun.003\\n OBSun.004\\n OBSun.005\\n OBSun.006\\n OBSun.007\\n OBSun.008\\n OBSun.009\\n OBTarget\\n OBSun\\n OBPlane\\n OBPlane.001\\n OBPlane.002\\n OBTarget.001\\n OBColorbar\\n OBcolorBarText\\n OBmax\\n OBmin\\n OBCylinder\\n OBTimeBall\\n OBText\\n OBHeadline\\n OBSecondaryHeadline\\n OBSun.001\\nError: Cannot read file '/local_mount/space/thibault/1/users/npeled/code/mmvt/src/mmvt_addon/--subject': No such file or directory\\n... opened default scene instead; saving will write to /local_mount/space/thibault/1/users/npeled/code/mmvt/src/mmvt_addon/--subject\\nError: Cannot read file '/local_mount/space/thibault/1/users/npeled/code/mmvt/src/mmvt_addon/sample': No such file or directory\\n... opened default scene instead; saving will write to /local_mount/space/thibault/1/users/npeled/code/mmvt/src/mmvt_addon/sample\\nError: Cannot read file '/local_mount/space/thibault/1/users/npeled/code/mmvt/src/mmvt_addon/--subjects': No such file or directory\\n... opened default scene instead; saving will write to /local_mount/space/thibault/1/users/npeled/code/mmvt/src/mmvt_addon/--subjects\\nError: File path '/local_mount/space/thibault/1/users/npeled/code/mmvt/src/mmvt_addon/' invalid\\n... opened default scene instead; saving will write to /local_mount/space/thibault/1/users/npeled/code/mmvt/src/mmvt_addon/\\nError: Cannot read file '/local_mount/space/thibault/1/users/npeled/code/mmvt/src/mmvt_addon/--atlas': No such file or directory\\n... opened default scene instead; saving will write to /local_mount/space/thibault/1/users/npeled/code/mmvt/src/mmvt_addon/--atlas\\nError: File format is not supported in file '/local_mount/space/thibault/1/users/npeled/code/mmvt/src/mmvt_addon/dkt'\\n... opened default scene instead; saving will write to /local_mount/space/thibault/1/users/npeled/code/mmvt/src/mmvt_addon/dkt\\nError: Cannot read file '/local_mount/space/thibault/1/users/npeled/code/mmvt/src/mmvt_addon/--real_atlas': No such file or directory\\n... opened default scene instead; saving will write to /local_mount/space/thibault/1/users/npeled/code/mmvt/src/mmvt_addon/--real_atlas\\nError: Cannot read file '/local_mount/space/thibault/1/users/npeled/code/mmvt/src/mmvt_addon/aparc.DKTatlas40': No such file or directory\\n... opened default scene instead; saving will write to /local_mount/space/thibault/1/users/npeled/code/mmvt/src/mmvt_addon/aparc.DKTatlas40\\nError: Cannot read file '/local_mount/space/thibault/1/users/npeled/code/mmvt/src/mmvt_addon/--bipolar': No such file or directory\\n... opened default scene instead; saving will write to /local_mount/space/thibault/1/users/npeled/code/mmvt/src/mmvt_addon/--bipolar\\nError: Cannot read file '/local_mount/space/thibault/1/users/npeled/code/mmvt/src/mmvt_addon/False': No such file or directory\\n... opened default scene instead; saving will write to /local_mount/space/thibault/1/users/npeled/code/mmvt/src/mmvt_addon/False\\nError: Cannot read file '/local_mount/space/thibault/1/users/npeled/code/mmvt/src/mmvt_addon/False': No such file or directory\\n... opened default scene instead; saving will write to /local_mount/space/thibault/1/users/npeled/code/mmvt/src/mmvt_addon/False\\nError: Cannot read file '/local_mount/space/thibault/1/users/npeled/code/mmvt/src/mmvt_addon/--blender_fol': No such file or directory\\n... opened default scene instead; saving will write to /local_mount/space/thibault/1/users/npeled/code/mmvt/src/mmvt_addon/--blender_fol\\nError: File format is not supported in file '/local_mount/space/thibault/1/users/npeled/blender-2.78a-linux-glibc211-x86_64'\\n... opened default scene instead; saving will write to /local_mount/space/thibault/1/users/npeled/blender-2.78a-linux-glibc211-x86_64\\nEvaluate all animation - 277.000000\\nSaved: '/autofs/space/thibault_001/users/npeled/mmvt/sample/figures/stc_0.png'\\nOpenGL Render written to '/autofs/space/thibault_001/users/npeled/mmvt/sample/figures/stc_0.png'\\nED_undo_push: Rotate the brain\\nED_undo_push: Rotate the brain\\nED_undo_push: Rotate the brain\\nED_undo_push: mmvt show_saggital\\nSaved: '/autofs/space/thibault_001/users/npeled/mmvt/sample/figures/stc_0.png'\\nOpenGL Render written to '/autofs/space/thibault_001/users/npeled/mmvt/sample/figures/stc_0.png'\\nmesh_ensure_tessellation_customdata: warning! Tessellation uvs or vcol data got out of sync, had to reset!\\n    CD_MTFACE: 0 != CD_MTEXPOLY: 0 || CD_MCOL: 1 != CD_MLOOPCOL: 0\\nmesh_ensure_tessellation_customdata: warning! Tessellation uvs or vcol data got out of sync, had to reset!\\n    CD_MTFACE: 0 != CD_MTEXPOLY: 0 || CD_MCOL: 1 != CD_MLOOPCOL: 0\\nSaved: '/autofs/space/thibault_001/users/npeled/mmvt/sample/figures/stc_7.png'\\nOpenGL Render written to '/autofs/space/thibault_001/users/npeled/mmvt/sample/figures/stc_7.png'\\nSaved: '/autofs/space/thibault_001/users/npeled/mmvt/sample/figures/stc_7.png'\\nOpenGL Render written to '/autofs/space/thibault_001/users/npeled/mmvt/sample/figures/stc_7.png'\\nSaved: '/autofs/space/thibault_001/users/npeled/mmvt/sample/figures/stc_7.png'\\nOpenGL Render written to '/autofs/space/thibault_001/users/npeled/mmvt/sample/figures/stc_7.png'\\nSaved: '/autofs/space/thibault_001/users/npeled/mmvt/sample/figures/stc_7.png'\\nOpenGL Render written to '/autofs/space/thibault_001/users/npeled/mmvt/sample/figures/stc_7.png'\\nEvaluate all animation - 277.000000\\nSaved: '/autofs/space/thibault_001/users/npeled/mmvt/sample/figures/277.png'\\n Time: 00:12.60 (Saving: 00:00.02)\\n\\nEvaluate all animation - 277.000000\\nED_undo_push: Solid Brain\\nED_undo_push: Camera Mode\\nED_undo_push: Rotate the brain\\nSaved: '/autofs/space/thibault_001/users/npeled/mmvt/sample/figures/stc_7.png'\\nOpenGL Render written to '/autofs/space/thibault_001/users/npeled/mmvt/sample/figures/stc_7.png'\\nSaved: '/autofs/space/thibault_001/users/npeled/mmvt/sample/figures/stc_7.png'\\nOpenGL Render written to '/autofs/space/thibault_001/users/npeled/mmvt/sample/figures/stc_7.png'\\nED_undo_push: Rotate the brain\\nSaved: '/autofs/space/thibault_001/users/npeled/mmvt/sample/figures/stc_7.png'\\nOpenGL Render written to '/autofs/space/thibault_001/users/npeled/mmvt/sample/figures/stc_7.png'\\nmesh_ensure_tessellation_customdata: warning! Tessellation uvs or vcol data got out of sync, had to reset!\\n    CD_MTFACE: 0 != CD_MTEXPOLY: 0 || CD_MCOL: 1 != CD_MLOOPCOL: 0\\nmesh_ensure_tessellation_customdata: warning! Tessellation uvs or vcol data got out of sync, had to reset!\\n    CD_MTFACE: 0 != CD_MTEXPOLY: 0 || CD_MCOL: 1 != CD_MLOOPCOL: 0\\nSaved: '/autofs/space/thibault_001/users/npeled/mmvt/sample/figures/stc_17.png'\\nOpenGL Render written to '/autofs/space/thibault_001/users/npeled/mmvt/sample/figures/stc_17.png'\\nSaved: '/autofs/space/thibault_001/users/npeled/mmvt/sample/figures/stc_17.png'\\nOpenGL Render written to '/autofs/space/thibault_001/users/npeled/mmvt/sample/figures/stc_17.png'\\nSaved: '/autofs/space/thibault_001/users/npeled/mmvt/sample/figures/stc_17.png'\\nOpenGL Render written to '/autofs/space/thibault_001/users/npeled/mmvt/sample/figures/stc_17.png'\\nSaved: '/autofs/space/thibault_001/users/npeled/mmvt/sample/figures/stc_17.png'\\nOpenGL Render written to '/autofs/space/thibault_001/users/npeled/mmvt/sample/figures/stc_17.png'\\nSaved: '/autofs/space/thibault_001/users/npeled/mmvt/sample/figures/stc_17.png'\\nOpenGL Render written to '/autofs/space/thibault_001/users/npeled/mmvt/sample/figures/stc_17.png'\\nEvaluate all animation - 277.000000\\nSaved: '/autofs/space/thibault_001/users/npeled/mmvt/sample/figures/277.png'\\n Time: 00:12.62 (Saving: 00:00.02)\\n\\nEvaluate all animation - 277.000000\\nSaved: '/autofs/space/thibault_001/users/npeled/mmvt/sample/figures/stc_17.png'\\nOpenGL Render written to '/autofs/space/thibault_001/users/npeled/mmvt/sample/figures/stc_17.png'\\nmesh_ensure_tessellation_customdata: warning! Tessellation uvs or vcol data got out of sync, had to reset!\\n    CD_MTFACE: 0 != CD_MTEXPOLY: 0 || CD_MCOL: 1 != CD_MLOOPCOL: 0\\nmesh_ensure_tessellation_customdata: warning! Tessellation uvs or vcol data got out of sync, had to reset!\\n    CD_MTFACE: 0 != CD_MTEXPOLY: 0 || CD_MCOL: 1 != CD_MLOOPCOL: 0\\nSaved: '/autofs/space/thibault_001/users/npeled/mmvt/sample/figures/stc_18.png'\\nOpenGL Render written to '/autofs/space/thibault_001/users/npeled/mmvt/sample/figures/stc_18.png'\\nmesh_ensure_tessellation_customdata: warning! Tessellation uvs or vcol data got out of sync, had to reset!\\n    CD_MTFACE: 0 != CD_MTEXPOLY: 0 || CD_MCOL: 1 != CD_MLOOPCOL: 0\\nmesh_ensure_tessellation_customdata: warning! Tessellation uvs or vcol data got out of sync, had to reset!\\n    CD_MTFACE: 0 != CD_MTEXPOLY: 0 || CD_MCOL: 1 != CD_MLOOPCOL: 0\\nSaved: '/autofs/space/thibault_001/users/npeled/mmvt/sample/figures/stc_19.png'\\nOpenGL Render written to '/autofs/space/thibault_001/users/npeled/mmvt/sample/figures/stc_19.png'\\nmesh_ensure_tessellation_customdata: warning! Tessellation uvs or vcol data got out of sync, had to reset!\\n    CD_MTFACE: 0 != CD_MTEXPOLY: 0 || CD_MCOL: 1 != CD_MLOOPCOL: 0\\nmesh_ensure_tessellation_customdata: warning! Tessellation uvs or vcol data got out of sync, had to reset!\\n    CD_MTFACE: 0 != CD_MTEXPOLY: 0 || CD_MCOL: 1 != CD_MLOOPCOL: 0\\nSaved: '/autofs/space/thibault_001/users/npeled/mmvt/sample/figures/stc_20.png'\\nOpenGL Render written to '/autofs/space/thibault_001/users/npeled/mmvt/sample/figures/stc_20.png'\\nmesh_ensure_tessellation_customdata: warning! Tessellation uvs or vcol data got out of sync, had to reset!\\n    CD_MTFACE: 0 != CD_MTEXPOLY: 0 || CD_MCOL: 1 != CD_MLOOPCOL: 0\\nmesh_ensure_tessellation_customdata: warning! Tessellation uvs or vcol data got out of sync, had to reset!\\n    CD_MTFACE: 0 != CD_MTEXPOLY: 0 || CD_MCOL: 1 != CD_MLOOPCOL: 0\\nSaved: '/autofs/space/thibault_001/users/npeled/mmvt/sample/figures/stc_0.png'\\nOpenGL Render written to '/autofs/space/thibault_001/users/npeled/mmvt/sample/figures/stc_0.png'\\nmesh_ensure_tessellation_customdata: warning! Tessellation uvs or vcol data got out of sync, had to reset!\\n    CD_MTFACE: 0 != CD_MTEXPOLY: 0 || CD_MCOL: 1 != CD_MLOOPCOL: 0\\nmesh_ensure_tessellation_customdata: warning! Tessellation uvs or vcol data got out of sync, had to reset!\\n    CD_MTFACE: 0 != CD_MTEXPOLY: 0 || CD_MCOL: 1 != CD_MLOOPCOL: 0\\nSaved: '/autofs/space/thibault_001/users/npeled/mmvt/sample/figures/stc_1.png'\\nOpenGL Render written to '/autofs/space/thibault_001/users/npeled/mmvt/sample/figures/stc_1.png'\\nmesh_ensure_tessellation_customdata: warning! Tessellation uvs or vcol data got out of sync, had to reset!\\n    CD_MTFACE: 0 != CD_MTEXPOLY: 0 || CD_MCOL: 1 != CD_MLOOPCOL: 0\\nmesh_ensure_tessellation_customdata: warning! Tessellation uvs or vcol data got out of sync, had to reset!\\n    CD_MTFACE: 0 != CD_MTEXPOLY: 0 || CD_MCOL: 1 != CD_MLOOPCOL: 0\\nSaved: '/autofs/space/thibault_001/users/npeled/mmvt/sample/figures/stc_2.png'\\nOpenGL Render written to '/autofs/space/thibault_001/users/npeled/mmvt/sample/figures/stc_2.png'\\nmesh_ensure_tessellation_customdata: warning! Tessellation uvs or vcol data got out of sync, had to reset!\\n    CD_MTFACE: 0 != CD_MTEXPOLY: 0 || CD_MCOL: 1 != CD_MLOOPCOL: 0\\nmesh_ensure_tessellation_customdata: warning! Tessellation uvs or vcol data got out of sync, had to reset!\\n    CD_MTFACE: 0 != CD_MTEXPOLY: 0 || CD_MCOL: 1 != CD_MLOOPCOL: 0\\nSaved: '/autofs/space/thibault_001/users/npeled/mmvt/sample/figures/stc_3.png'\\nOpenGL Render written to '/autofs/space/thibault_001/users/npeled/mmvt/sample/figures/stc_3.png'\\nmesh_ensure_tessellation_customdata: warning! Tessellation uvs or vcol data got out of sync, had to reset!\\n    CD_MTFACE: 0 != CD_MTEXPOLY: 0 || CD_MCOL: 1 != CD_MLOOPCOL: 0\\nmesh_ensure_tessellation_customdata: warning! Tessellation uvs or vcol data got out of sync, had to reset!\\n    CD_MTFACE: 0 != CD_MTEXPOLY: 0 || CD_MCOL: 1 != CD_MLOOPCOL: 0\\nSaved: '/autofs/space/thibault_001/users/npeled/mmvt/sample/figures/stc_4.png'\\nOpenGL Render written to '/autofs/space/thibault_001/users/npeled/mmvt/sample/figures/stc_4.png'\\nmesh_ensure_tessellation_customdata: warning! Tessellation uvs or vcol data got out of sync, had to reset!\\n    CD_MTFACE: 0 != CD_MTEXPOLY: 0 || CD_MCOL: 1 != CD_MLOOPCOL: 0\\nmesh_ensure_tessellation_customdata: warning! Tessellation uvs or vcol data got out of sync, had to reset!\\n    CD_MTFACE: 0 != CD_MTEXPOLY: 0 || CD_MCOL: 1 != CD_MLOOPCOL: 0\\nSaved: '/autofs/space/thibault_001/users/npeled/mmvt/sample/figures/stc_5.png'\\nOpenGL Render written to '/autofs/space/thibault_001/users/npeled/mmvt/sample/figures/stc_5.png'\\nmesh_ensure_tessellation_customdata: warning! Tessellation uvs or vcol data got out of sync, had to reset!\\n    CD_MTFACE: 0 != CD_MTEXPOLY: 0 || CD_MCOL: 1 != CD_MLOOPCOL: 0\\nmesh_ensure_tessellation_customdata: warning! Tessellation uvs or vcol data got out of sync, had to reset!\\n    CD_MTFACE: 0 != CD_MTEXPOLY: 0 || CD_MCOL: 1 != CD_MLOOPCOL: 0\\nSaved: '/autofs/space/thibault_001/users/npeled/mmvt/sample/figures/stc_7.png'\\nOpenGL Render written to '/autofs/space/thibault_001/users/npeled/mmvt/sample/figures/stc_7.png'\\nmesh_ensure_tessellation_customdata: warning! Tessellation uvs or vcol data got out of sync, had to reset!\\n    CD_MTFACE: 0 != CD_MTEXPOLY: 0 || CD_MCOL: 1 != CD_MLOOPCOL: 0\\nmesh_ensure_tessellation_customdata: warning! Tessellation uvs or vcol data got out of sync, had to reset!\\n    CD_MTFACE: 0 != CD_MTEXPOLY: 0 || CD_MCOL: 1 != CD_MLOOPCOL: 0\\nSaved: '/autofs/space/thibault_001/users/npeled/mmvt/sample/figures/stc_10.png'\\nOpenGL Render written to '/autofs/space/thibault_001/users/npeled/mmvt/sample/figures/stc_10.png'\\nmesh_ensure_tessellation_customdata: warning! Tessellation uvs or vcol data got out of sync, had to reset!\\n    CD_MTFACE: 0 != CD_MTEXPOLY: 0 || CD_MCOL: 1 != CD_MLOOPCOL: 0\\nmesh_ensure_tessellation_customdata: warning! Tessellation uvs or vcol data got out of sync, had to reset!\\n    CD_MTFACE: 0 != CD_MTEXPOLY: 0 || CD_MCOL: 1 != CD_MLOOPCOL: 0\\nSaved: '/autofs/space/thibault_001/users/npeled/mmvt/sample/figures/stc_13.png'\\nOpenGL Render written to '/autofs/space/thibault_001/users/npeled/mmvt/sample/figures/stc_13.png'\\nmesh_ensure_tessellation_customdata: warning! Tessellation uvs or vcol data got out of sync, had to reset!\\n    CD_MTFACE: 0 != CD_MTEXPOLY: 0 || CD_MCOL: 1 != CD_MLOOPCOL: 0\\nmesh_ensure_tessellation_customdata: warning! Tessellation uvs or vcol data got out of sync, had to reset!\\n    CD_MTFACE: 0 != CD_MTEXPOLY: 0 || CD_MCOL: 1 != CD_MLOOPCOL: 0\\nSaved: '/autofs/space/thibault_001/users/npeled/mmvt/sample/figures/stc_16.png'\\nOpenGL Render written to '/autofs/space/thibault_001/users/npeled/mmvt/sample/figures/stc_16.png'\\nmesh_ensure_tessellation_customdata: warning! Tessellation uvs or vcol data got out of sync, had to reset!\\n    CD_MTFACE: 0 != CD_MTEXPOLY: 0 || CD_MCOL: 1 != CD_MLOOPCOL: 0\\nmesh_ensure_tessellation_customdata: warning! Tessellation uvs or vcol data got out of sync, had to reset!\\n    CD_MTFACE: 0 != CD_MTEXPOLY: 0 || CD_MCOL: 1 != CD_MLOOPCOL: 0\\nSaved: '/autofs/space/thibault_001/users/npeled/mmvt/sample/figures/stc_21.png'\\nOpenGL Render written to '/autofs/space/thibault_001/users/npeled/mmvt/sample/figures/stc_21.png'\\nmesh_ensure_tessellation_customdata: warning! Tessellation uvs or vcol data got out of sync, had to reset!\\n    CD_MTFACE: 0 != CD_MTEXPOLY: 0 || CD_MCOL: 1 != CD_MLOOPCOL: 0\\nmesh_ensure_tessellation_customdata: warning! Tessellation uvs or vcol data got out of sync, had to reset!\\n    CD_MTFACE: 0 != CD_MTEXPOLY: 0 || CD_MCOL: 1 != CD_MLOOPCOL: 0\\nSaved: '/autofs/space/thibault_001/users/npeled/mmvt/sample/figures/stc_0.png'\\nOpenGL Render written to '/autofs/space/thibault_001/users/npeled/mmvt/sample/figures/stc_0.png'\\nED_undo_push: Rotate the brain\\nED_undo_push: Rotate the brain\\nED_undo_push: mmvt show_hide_lh\\nED_undo_puplatform: linux\\nmmvt_addon_fol: /local_mount/space/thibault/1/users/npeled/code/mmvt/src/mmvt_addon\\nplatform: linux\\nmmvt addon started!\\nNo MEG data\\nNo dynamic fMRI data\\nNo deep electrodes data\\nCan't register electrodes panel, no Deep_electrodes object\\nNo electrodes data file!\\nfreeview command: freeview\\nUse -verbose? True\\nUse -stdin? True\\nCamera loaded: rotation: 90.0000161648565,1.2809830641331785e-05,180.00052410333325 locatioin: 0.0,38.37050247192383,0.0\\nStreaming: No electrodes\\nNo connectivity files were found in /autofs/space/thibault_001/users/npeled/mmvt/sample/connectivity/*.npz\\nNo lookup files for vertex_data_panel\\nFinish init MMVT!\\nMessage in the server queue!\\nImage saved in /autofs/space/thibault_001/users/npeled/mmvt/sample/figures/stc_0.png\\nPutting the ret in pizco out queue\\nMessage in the server queue!\\nPutting the ret in pizco out queue\\nMessage in the server queue!\\nImage saved in /autofs/space/thibault_001/users/npeled/mmvt/sample/figures/stc_0.png\\nPutting the ret in pizco out queue\\nMessage in the server queue!\\nImage saved in /autofs/space/thibault_001/users/npeled/mmvt/sample/figures/stc_7.png\\nPutting the ret in pizco out queue\\nMessage in the server queue!\\nPutting the ret in pizco out queue\\nMessage in the server queue!\\nImage saved in /autofs/space/thibault_001/users/npeled/mmvt/sample/figures/stc_7.png\\nPutting the ret in pizco out queue\\nMessage in the server queue!\\nPutting the ret in pizco out queue\\nMessage in the server queue!\\nImage saved in /autofs/space/thibault_001/users/npeled/mmvt/sample/figures/stc_7.png\\nPutting the ret in pizco out queue\\nMessage in the server queue!\\nPutting the ret in pizco out queue\\nMessage in the server queue!\\nImage saved in /autofs/space/thibault_001/users/npeled/mmvt/sample/figures/stc_7.png\\nPutting the ret in pizco out queue\\nMessage in the server queue!\\nPutting the ret in pizco out queue\\nMessage in the server queue!\\ntransparency value must be between 0 (not transparent) and 1\\nPutting the ret in pizco out queue\\nMessage in the server queue!\\nCan't find the folder /local_mount/space/thibault/1/users/npeled/blender-2\\nPutting the ret in pizco out queue\\nMessage in the server queue!\\nImage quality: 32\\nRendering...\\nfile name: /autofs/space/thibault_001/users/npeled/mmvt/sample/figures/277.png\\nNo camera file was found in /local_mount/space/thibault/1/users/npeled/blender-2/camera/camera.pkl!\\nFinished\\nPutting the ret in pizco out queue\\nMessage in the server queue!\\nImage saved in /autofs/space/thibault_001/users/npeled/mmvt/sample/figures/stc_7.png\\nPutting the ret in pizco out queue\\nMessage in the server queue!\\nImage saved in /autofs/space/thibault_001/users/npeled/mmvt/sample/figures/stc_7.png\\nPutting the ret in pizco out queue\\nMessage in the server queue!\\nImage saved in /autofs/space/thibault_001/users/npeled/mmvt/sample/figures/stc_7.png\\nPutting the ret in pizco out queue\\nMessage in the server queue!\\nImage saved in /autofs/space/thibault_001/users/npeled/mmvt/sample/figures/stc_17.png\\nPutting the ret in pizco out queue\\nMessage in the server queue!\\nPutting the ret in pizco out queue\\nMessage in the server queue!\\nImage saved in /autofs/space/thibault_001/users/npeled/mmvt/sample/figures/stc_17.png\\nPutting the ret in pizco out queue\\nMessage in the server queue!\\nPutting the ret in pizco out queue\\nMessage in the server queue!\\nImage saved in /autofs/space/thibault_001/users/npeled/mmvt/sample/figures/stc_17.png\\nPutting the ret in pizco out queue\\nMessage in the server queue!\\nPutting the ret in pizco out queue\\nMessage in the server queue!\\nImage saved in /autofs/space/thibault_001/users/npeled/mmvt/sample/figures/stc_17.png\\nPutting the ret in pizco out queue\\nMessage in the server queue!\\nPutting the ret in pizco out queue\\nMessage in the server queue!\\nImage saved in /autofs/space/thibault_001/users/npeled/mmvt/sample/figures/stc_17.png\\nPutting the ret in pizco out queue\\nMessage in the server queue!\\nPutting the ret in pizco out queue\\nMessage in the server queue!\\ntransparency value must be between 0 (not transparent) and 1\\nPutting the ret in pizco out queue\\nMessage in the server queue!\\nCan't find the folder /local_mount/space/thibault/1/users/npeled/blender-2\\nPutting the ret in pizco out queue\\nMessage in the server queue!\\nImage quality: 32\\nRendering...\\nfile name: /autofs/space/thibault_001/users/npeled/mmvt/sample/figures/277.png\\nNo camera file was found in /local_mount/space/thibault/1/users/npeled/blender-2/camera/camera.pkl!\\nFinished\\nPutting the ret in pizco out queue\\nMessage in the server queue!\\nImage saved in /autofs/space/thibault_001/users/npeled/mmvt/sample/figures/stc_17.png\\nPutting the ret in pizco out queue\\nMessage in the server queue!\\nImage saved in /autofs/space/thibault_001/users/npeled/mmvt/sample/figures/stc_18.png\\nPutting the ret in pizco out queue\\nMessage in the server queue!\\nImage saved in /autofs/space/thibault_001/users/npeled/mmvt/sample/figures/stc_19.png\\nPutting the ret in pizco out queue\\nMessage in the server queue!\\nImage saved in /autofs/space/thibault_001/users/npeled/mmvt/sample/figures/stc_20.png\\nPutting the ret in pizco out queue\\nMessage in the server queue!\\nImage saved in /autofs/space/thibault_001/users/npeled/mmvt/sample/figures/stc_0.png\\nPutting the ret in pizco out queue\\nMessage in the server queue!\\nImage saved in /autofs/space/thibault_001/users/npeled/mmvt/sample/figures/stc_1.png\\nPutting the ret in pizco out queue\\nMessage in the server queue!\\nImage saved in /autofs/space/thibault_001/users/npeled/mmvt/sample/figures/stc_2.png\\nPutting the ret in pizco out queue\\nMessage in the server queue!\\nImage saved in /autofs/space/thibault_001/users/npeled/mmvt/sample/figures/stc_3.png\\nPutting the ret in pizco out queue\\nMessage in the server queue!\\nImage saved in /autofs/space/thibault_001/users/npeled/mmvt/sample/figures/stc_4.png\\nPutting the ret in pizco out queue\\nMessage in the server queue!\\nImage saved in /autofs/space/thibault_001/users/npeled/mmvt/sample/figures/stc_5.png\\nPutting the ret in pizco out queue\\nMessage in the server queue!\\nImage saved in /autofs/space/thibault_001/users/npeled/mmvt/sample/figures/stc_7.png\\nPutting the ret in pizco out queue\\nMessage in the server queue!\\nImage saved in /autofs/space/thibault_001/users/npeled/mmvt/sample/figures/stc_10.png\\nPutting the ret in pizco out queue\\nMessage in the server queue!\\nImage saved in /autofs/space/thibault_001/users/npeled/mmvt/sample/figures/stc_13.png\\nPutting the ret in pizco out queue\\nMessage in the server queue!\\nImage saved in /autofs/space/thibault_001/users/npeled/mmvt/sample/figures/stc_16.png\\nPutting the ret in pizco out queue\\nMessage in the server queue!\\nImage saved in /autofs/space/thibault_001/users/npeled/mmvt/sample/figures/stc_21.png\\nPutting the ret in pizco out queue\\nMessage in the server queue!\\nImage saved in /autofs/space/thibault_001/users/npeled/mmvt/sample/figures/stc_0.png\\nPutting the ret in pizco out queue\\nMessage in the server queue!\\nPutting the ret in pizco out queue\\nsh: mmvt show_hide_sub\\nED_undo_push: mmvt show_hide_sub\\nSaved session recovery to '/autofs/space/thibault_001/users/npeled/tmp/quit.blend'\\n\\nBlender quit\\n\"\n"
     ]
    }
   ],
   "source": [
    "mmvt.rotate_brain(0, 0, 0.02, True)"
   ]
  },
  {
   "cell_type": "code",
   "execution_count": null,
   "metadata": {
    "collapsed": true
   },
   "outputs": [],
   "source": []
  }
 ],
 "metadata": {
  "kernelspec": {
   "display_name": "Python 3",
   "language": "python",
   "name": "python3"
  },
  "language_info": {
   "codemirror_mode": {
    "name": "ipython",
    "version": 3
   },
   "file_extension": ".py",
   "mimetype": "text/x-python",
   "name": "python",
   "nbconvert_exporter": "python",
   "pygments_lexer": "ipython3",
   "version": "3.6.0"
  },
  "widgets": {
   "state": {
    "4c4e99f4315d4632b31c47033df92e7c": {
     "views": [
      {
       "cell_index": 7
      }
     ]
    }
   },
   "version": "1.2.0"
  }
 },
 "nbformat": 4,
 "nbformat_minor": 2
}
