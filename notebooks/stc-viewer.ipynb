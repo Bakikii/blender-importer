{
 "cells": [
  {
   "cell_type": "code",
   "execution_count": 1,
   "metadata": {
    "collapsed": false
   },
   "outputs": [
    {
     "name": "stdout",
     "output_type": "stream",
     "text": [
      "no bpy\n",
      "platform: linux\n",
      "argv: --subject mg78 --atlas laus250\n",
      "*********** mg78 ***********\n",
      "/home/npeled/blender-2.78a-linux-glibc211-x86_64/blender /home/npeled/mmvt/mg78_laus250.blend  --python \"/home/npeled/code/mmvt/src/mmvt_addon/scripts/run_mmvt.py\" --subject \"mg78\" --subjects \"\" --atlas \"laus250\" --real_atlas \"laus250\" --bipolar \"False\" --debug \"False\" --blender_fol \"/home/npeled/blender-2.78a-linux-glibc211-x86_64\" \n",
      "start!\n",
      "After Blender call\n",
      "Finish! For more details look in /home/npeled/code/mmvt/logs/run_mmvt.log\n"
     ]
    }
   ],
   "source": [
    "import os\n",
    "os.chdir('..')\n",
    "from src.mmvt_addon.scripts import run_mmvt\n",
    "subject = 'mg78' # The freesurfer subject's name \n",
    "atlas = 'laus250'\n",
    "run_mmvt.run(subject, atlas, run_in_background=False)"
   ]
  },
  {
   "cell_type": "code",
   "execution_count": 2,
   "metadata": {
    "collapsed": false
   },
   "outputs": [
    {
     "name": "stderr",
     "output_type": "stream",
     "text": [
      "Exception in thread ioloop-139941911786888:\n",
      "Traceback (most recent call last):\n",
      "  File \"/home/npeled/anaconda3/lib/python3.6/threading.py\", line 916, in _bootstrap_inner\n",
      "    self.run()\n",
      "  File \"/home/npeled/anaconda3/lib/python3.6/threading.py\", line 864, in run\n",
      "    self._target(*self._args, **self._kwargs)\n",
      "  File \"/home/npeled/anaconda3/lib/python3.6/site-packages/zmq/eventloop/ioloop.py\", line 177, in start\n",
      "    super(ZMQIOLoop, self).start()\n",
      "  File \"/home/npeled/anaconda3/lib/python3.6/site-packages/tornado/ioloop.py\", line 752, in start\n",
      "    raise RuntimeError(\"IOLoop is already running\")\n",
      "RuntimeError: IOLoop is already running\n",
      "\n"
     ]
    }
   ],
   "source": [
    "from pizco import Proxy\n",
    "mmvt = Proxy('tcp://127.0.0.1:8000')"
   ]
  },
  {
   "cell_type": "code",
   "execution_count": 3,
   "metadata": {
    "collapsed": false
   },
   "outputs": [],
   "source": [
    "import ipywidgets as widgets\n",
    "t = 600 # ms\n",
    "play = widgets.Play(value=t, min=0, max=2500, step=100, interval=100)\n",
    "slider = widgets.IntSlider(value=t, min=0, max=2500, step=100)\n",
    "widgets.jslink((play, 'value'), (slider, 'value'))"
   ]
  },
  {
   "cell_type": "code",
   "execution_count": 4,
   "metadata": {
    "collapsed": false
   },
   "outputs": [],
   "source": [
    "import os.path as op\n",
    "from src.utils import utils\n",
    "import mne\n",
    "\n",
    "LINKS_DIR = utils.get_links_dir()\n",
    "MEG_DIR = utils.get_link_dir(LINKS_DIR, 'meg')\n",
    "task = 'MSIT'\n",
    "meg_subject = 'ep001'\n",
    "stc_fname = op.join(MEG_DIR, task, meg_subject, 'ep001_msit_nTSSS_interference_neutral_1-15-dSPM-rh.stc')\n",
    "stc = mne.read_source_estimate(stc_fname)"
   ]
  },
  {
   "cell_type": "code",
   "execution_count": 5,
   "metadata": {
    "collapsed": false
   },
   "outputs": [],
   "source": [
    "n_jobs = 4\n",
    "vertices_to = mne.grade_to_vertices(subject, None)"
   ]
  },
  {
   "cell_type": "code",
   "execution_count": 6,
   "metadata": {
    "collapsed": false
   },
   "outputs": [
    {
     "name": "stdout",
     "output_type": "stream",
     "text": [
      "Morphing data...\n",
      "    Left-hemisphere map read.\n",
      "    Right-hemisphere map read.\n",
      "    Left-hemisphere map read.\n",
      "    Right-hemisphere map read.\n",
      "    7 smooth iterations done.\n"
     ]
    },
    {
     "name": "stderr",
     "output_type": "stream",
     "text": [
      "[Parallel(n_jobs=4)]: Done   1 out of   1 | elapsed:    0.2s finished\n"
     ]
    },
    {
     "name": "stdout",
     "output_type": "stream",
     "text": [
      "    7 smooth iterations done.\n",
      "[done]\n"
     ]
    },
    {
     "name": "stderr",
     "output_type": "stream",
     "text": [
      "[Parallel(n_jobs=4)]: Done   1 out of   1 | elapsed:    0.2s finished\n"
     ]
    }
   ],
   "source": [
    "from IPython.display import Image\n",
    "from src.preproc import meg as mmvt_meg\n",
    "import ipywidgets as widgets\n",
    "\n",
    "def plot_stc(stc, t):\n",
    "    stc_t = mmvt_meg.create_stc_t(stc, t, subject)\n",
    "    stc_t_smooth = mne.morph_data(subject, subject, stc_t, n_jobs=n_jobs, grade=vertices_to)\n",
    "    meg_fname = mmvt.plot_stc_t(stc_t_smooth.rh_data, stc_t_smooth.lh_data, t, threshold=1, save_image=True)\n",
    "    return meg_fname, stc_t_smooth\n",
    "    \n",
    "meg_fname, stc_t_smooth = plot_stc(stc, t)\n",
    "file = open(meg_fname, \"rb\")\n",
    "meg_image = widgets.Image(value=file.read(), format='png', width=800, height=450)"
   ]
  },
  {
   "cell_type": "code",
   "execution_count": 7,
   "metadata": {
    "collapsed": true
   },
   "outputs": [],
   "source": [
    "def update_image():\n",
    "    meg_fname = mmvt.save_image('stc', index=slider.value)\n",
    "    file = open(meg_fname, \"rb\")\n",
    "    meg_image.value = file.read()\n",
    "\n",
    "sagital_button = widgets.Button(description=\"Sagital\")\n",
    "sagital_button.on_click(lambda x:(mmvt.show_sagital(), update_image()))\n",
    "coronal_button = widgets.Button(description=\"Coronal\")\n",
    "coronal_button.on_click(lambda x:(mmvt.show_coronal(), update_image()))\n",
    "axial_button = widgets.Button(description=\"Axial\")\n",
    "axial_button.on_click(lambda x:(mmvt.show_axial(), update_image()))"
   ]
  },
  {
   "cell_type": "code",
   "execution_count": 8,
   "metadata": {
    "collapsed": false
   },
   "outputs": [
    {
     "name": "stdout",
     "output_type": "stream",
     "text": [
      "Morphing data...\n",
      "    Left-hemisphere map read.\n",
      "    Right-hemisphere map read.\n",
      "    Left-hemisphere map read.\n",
      "    Right-hemisphere map read.\n",
      "    7 smooth iterations done.\n"
     ]
    },
    {
     "name": "stderr",
     "output_type": "stream",
     "text": [
      "[Parallel(n_jobs=4)]: Done   1 out of   1 | elapsed:    0.2s finished\n"
     ]
    },
    {
     "name": "stdout",
     "output_type": "stream",
     "text": [
      "    7 smooth iterations done.\n",
      "[done]\n"
     ]
    },
    {
     "name": "stderr",
     "output_type": "stream",
     "text": [
      "[Parallel(n_jobs=4)]: Done   1 out of   1 | elapsed:    0.2s finished\n"
     ]
    },
    {
     "name": "stdout",
     "output_type": "stream",
     "text": [
      "Morphing data...\n",
      "    Left-hemisphere map read.\n",
      "    Right-hemisphere map read.\n",
      "    Left-hemisphere map read.\n",
      "    Right-hemisphere map read.\n",
      "    7 smooth iterations done.\n"
     ]
    },
    {
     "name": "stderr",
     "output_type": "stream",
     "text": [
      "[Parallel(n_jobs=4)]: Done   1 out of   1 | elapsed:    0.2s finished\n"
     ]
    },
    {
     "name": "stdout",
     "output_type": "stream",
     "text": [
      "    7 smooth iterations done.\n",
      "[done]\n"
     ]
    },
    {
     "name": "stderr",
     "output_type": "stream",
     "text": [
      "[Parallel(n_jobs=4)]: Done   1 out of   1 | elapsed:    0.2s finished\n"
     ]
    }
   ],
   "source": [
    "def on_value_change(change):\n",
    "    t = change['new']\n",
    "    meg_fname, stc_t_smooth = plot_stc(stc, t)\n",
    "    file = open(meg_fname, \"rb\")\n",
    "    meg_image.value = file.read()\n",
    "\n",
    "slider.observe(on_value_change, names='value') \n",
    "widgets.HBox([widgets.VBox([meg_image, widgets.HBox([play, slider])]),\n",
    "              widgets.VBox([sagital_button, coronal_button, axial_button])])"
   ]
  },
  {
   "cell_type": "code",
   "execution_count": null,
   "metadata": {
    "collapsed": true
   },
   "outputs": [],
   "source": []
  }
 ],
 "metadata": {
  "kernelspec": {
   "display_name": "Python 3",
   "language": "python",
   "name": "python3"
  },
  "language_info": {
   "codemirror_mode": {
    "name": "ipython",
    "version": 3
   },
   "file_extension": ".py",
   "mimetype": "text/x-python",
   "name": "python",
   "nbconvert_exporter": "python",
   "pygments_lexer": "ipython3",
   "version": "3.6.0"
  },
  "widgets": {
   "state": {
    "bbe4332602f043899963ecdd696ba67b": {
     "views": [
      {
       "cell_index": 7
      }
     ]
    }
   },
   "version": "1.2.0"
  }
 },
 "nbformat": 4,
 "nbformat_minor": 2
}
